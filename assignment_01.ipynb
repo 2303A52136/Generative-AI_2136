{
  "nbformat": 4,
  "nbformat_minor": 0,
  "metadata": {
    "colab": {
      "provenance": []
    },
    "kernelspec": {
      "name": "python3",
      "display_name": "Python 3"
    },
    "language_info": {
      "name": "python"
    }
  },
  "cells": [
    {
      "cell_type": "markdown",
      "source": [
        "Name:T.Ramyasri\n",
        "\n",
        "H.no:2303A52136\n",
        "\n",
        "Assignment-01\n"
      ],
      "metadata": {
        "id": "xs97KwDZx7oN"
      }
    },
    {
      "cell_type": "code",
      "execution_count": 1,
      "metadata": {
        "colab": {
          "base_uri": "https://localhost:8080/"
        },
        "id": "lt3o3CU5wdlv",
        "outputId": "f246f0dd-b083-4e83-f288-af1260ccd01a"
      },
      "outputs": [
        {
          "output_type": "stream",
          "name": "stdout",
          "text": [
            "Manual MAE: 0.4600000000000016\n",
            "Manual MSE: 0.24600000000000147\n",
            "Manual RMSE: 0.49598387070549127\n",
            "\n",
            "Comparison with Sklearn Metrics:\n",
            "Sklearn MAE: 0.4600000000000016\n",
            "Sklearn MSE: 0.24600000000000147\n",
            "Sklearn RMSE: 0.49598387070549127\n"
          ]
        }
      ],
      "source": [
        "# Required Libraries\n",
        "import numpy as np\n",
        "from sklearn.metrics import mean_absolute_error, mean_squared_error\n",
        "import math\n",
        "\n",
        "# Actual and Predicted Values\n",
        "y_actual = np.array([20, 30, 40, 50, 60])\n",
        "y_pred = np.array([20.5, 30.3, 40.2, 50.6, 60.7])\n",
        "\n",
        "# 1. Mean Absolute Error (MAE)\n",
        "mae = np.mean(np.abs(y_actual - y_pred))\n",
        "print(f\"Manual MAE: {mae}\")\n",
        "\n",
        "# 2. Mean Squared Error (MSE)\n",
        "mse = np.mean((y_actual - y_pred)**2)\n",
        "print(f\"Manual MSE: {mse}\")\n",
        "\n",
        "# 3. Root Mean Squared Error (RMSE)\n",
        "rmse = math.sqrt(mse)\n",
        "print(f\"Manual RMSE: {rmse}\")\n",
        "\n",
        "# Comparison with Sklearn Metrics\n",
        "sklearn_mae = mean_absolute_error(y_actual, y_pred)\n",
        "sklearn_mse = mean_squared_error(y_actual, y_pred)\n",
        "sklearn_rmse = math.sqrt(sklearn_mse)\n",
        "\n",
        "# Print comparison\n",
        "print(\"\\nComparison with Sklearn Metrics:\")\n",
        "print(f\"Sklearn MAE: {sklearn_mae}\")\n",
        "print(f\"Sklearn MSE: {sklearn_mse}\")\n",
        "print(f\"Sklearn RMSE: {sklearn_rmse}\")\n"
      ]
    }
  ]
}